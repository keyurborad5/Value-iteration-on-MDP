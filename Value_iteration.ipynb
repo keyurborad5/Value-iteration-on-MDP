{
 "cells": [
  {
   "cell_type": "markdown",
   "metadata": {},
   "source": [
    "# Solving MDP using Value Iteration"
   ]
  },
  {
   "cell_type": "markdown",
   "metadata": {},
   "source": [
    "### Using Grid world to setup my environment"
   ]
  },
  {
   "cell_type": "code",
   "execution_count": 24,
   "metadata": {},
   "outputs": [
    {
     "name": "stdout",
     "output_type": "stream",
     "text": [
      "Optimal Value Function:\n",
      "[[-7.56846691e+00 -7.29829656e+00 -9.99000000e+02  4.58000000e+00\n",
      "   6.20000000e+00  8.00000000e+00  1.00000000e+01  0.00000000e+00]\n",
      " [-7.29829656e+00 -6.99810729e+00 -9.99000000e+02  3.12200000e+00\n",
      "   4.58000000e+00  6.20000000e+00  8.00000000e+00  1.00000000e+01]\n",
      " [-6.99810729e+00 -6.66456366e+00 -9.99000000e+02  1.80980000e+00\n",
      "  -9.99000000e+02 -9.99000000e+02  6.20000000e+00  8.00000000e+00]\n",
      " [-6.66456366e+00 -6.29395962e+00 -9.99000000e+02  6.28820000e-01\n",
      "  -4.34062000e-01 -9.99000000e+02  4.58000000e+00  6.20000000e+00]\n",
      " [-6.29395962e+00 -5.88217736e+00 -9.99000000e+02 -4.34062000e-01\n",
      "  -1.39065580e+00 -9.99000000e+02  3.12200000e+00  4.58000000e+00]\n",
      " [-5.88217736e+00 -5.42464151e+00 -9.99000000e+02 -9.99000000e+02\n",
      "  -2.25159022e+00 -9.99000000e+02  1.80980000e+00  3.12200000e+00]\n",
      " [-5.42464151e+00 -4.91626834e+00 -4.35140927e+00 -3.72378808e+00\n",
      "  -3.02643120e+00 -9.99000000e+02  6.28820000e-01  1.80980000e+00]\n",
      " [-5.88217736e+00 -5.42464151e+00 -4.91626834e+00 -4.35140927e+00\n",
      "  -3.72378808e+00 -9.99000000e+02 -4.34062000e-01  6.28820000e-01]]\n"
     ]
    }
   ],
   "source": [
    "import numpy as np\n",
    "\n",
    "class GridWorld:\n",
    "    def __init__(self, rows, cols, start, goal, obstacles):\n",
    "        self.rows = rows\n",
    "        self.cols = cols\n",
    "        self.start = start\n",
    "        self.goal = goal\n",
    "        self.obstacles = obstacles\n",
    "        self.grid = np.full((rows, cols), -1)  # Default reward of -1 for all cells\n",
    "        self.grid[goal] = 10  # Reward of +10 for the goal cell\n",
    "        for obstacle in obstacles:\n",
    "            self.grid[obstacle] = -999  # None represents an obstacle\n",
    "\n",
    "    def is_valid_action(self, state, action):\n",
    "        \"\"\"Check if the action is valid from the given state.\"\"\"\n",
    "        row, col = state\n",
    "        if action == \"up\" and row > 0 and self.grid[row - 1, col] != -999:\n",
    "            return True\n",
    "        elif action == \"down\" and row < self.rows - 1 and self.grid[row + 1, col] != -999:\n",
    "            return True\n",
    "        elif action == \"left\" and col > 0 and self.grid[row, col - 1] != -999:\n",
    "            return True\n",
    "        elif action == \"right\" and col < self.cols - 1 and self.grid[row, col + 1] != -999:\n",
    "            return True\n",
    "        return False\n",
    "\n",
    "    def get_next_state(self, state, action):\n",
    "        \"\"\"Get the next state given the current state and action.\"\"\"\n",
    "        row, col = state\n",
    "        if action == \"up\":\n",
    "            return (row - 1, col)\n",
    "        elif action == \"down\":\n",
    "            return (row + 1, col)\n",
    "        elif action == \"left\":\n",
    "            return (row, col - 1)\n",
    "        elif action == \"right\":\n",
    "            return (row, col + 1)\n",
    "        return state\n",
    "\n",
    "    def value_iteration(self, discount_factor=0.9, theta=0.001):\n",
    "        \"\"\"Perform value iteration to compute optimal policy.\"\"\"\n",
    "        values = np.zeros((self.rows, self.cols))  # Initialize value function to zeros\n",
    "        actions = [\"up\", \"down\", \"left\", \"right\"]\n",
    "        \n",
    "        while True:\n",
    "            delta = 0\n",
    "            new_values = np.copy(values)\n",
    "            \n",
    "            for row in range(self.rows):\n",
    "                for col in range(self.cols):\n",
    "                    if (row, col) in self.obstacles:\n",
    "                        new_values[row][col]=-999\n",
    "                        continue\n",
    "                    if (row,col)==self.goal:\n",
    "                        continue\n",
    "                    max_value = float('-inf')\n",
    "                    for action in actions:\n",
    "                        if not self.is_valid_action((row, col), action):\n",
    "                            continue\n",
    "                        \n",
    "                        next_state = self.get_next_state((row, col), action)\n",
    "                        reward = self.grid[next_state]\n",
    "                        max_value = max(max_value, reward + discount_factor * values[next_state])\n",
    "                    \n",
    "                    new_values[row][col] = max_value\n",
    "                    delta = max(delta, abs(new_values[row][col] - values[row][col]))\n",
    "            \n",
    "            values = new_values\n",
    "            \n",
    "            if delta < theta:  # Stop when values converge\n",
    "                break\n",
    "        \n",
    "        return values\n",
    "\n",
    "# Define grid world parameters\n",
    "rows = 8\n",
    "cols = 8\n",
    "start = (4, 3)\n",
    "goal = (0, 7)\n",
    "obstacles = [(0, 2),(1, 2),(2, 2),(3, 2),(4, 2),(5, 2), \n",
    "            (2, 5), (3, 5), (4, 5), (5, 5), (6, 5), (7, 5),\n",
    "             (5,3), \n",
    "             (2,4),]\n",
    "\n",
    "# Create grid world instance\n",
    "grid_world = GridWorld(rows=rows, cols=cols, start=start, goal=goal, obstacles=obstacles)\n",
    "\n",
    "# Perform value iteration\n",
    "optimal_values = grid_world.value_iteration()\n",
    "\n",
    "# Print results\n",
    "print(\"Optimal Value Function:\")\n",
    "print(optimal_values)\n"
   ]
  },
  {
   "cell_type": "code",
   "execution_count": 23,
   "metadata": {},
   "outputs": [
    {
     "data": {
      "image/png": "[encoded data removed]",
      "text/plain": [
       "<Figure size 800x800 with 1 Axes>"
      ]
     },
     "metadata": {},
     "output_type": "display_data"
    }
   ],
   "source": [
    "import matplotlib\n",
    "import matplotlib.pyplot as plt\n",
    "fig, ax = plt.subplots(figsize=(8, 8))\n",
    "\n",
    "# Plot the grid values\n",
    "for i in range(rows):\n",
    "    for j in range(cols):\n",
    "        value = optimal_values[i, j]\n",
    "        if value == -999:\n",
    "            ax.add_patch(matplotlib.patches.Rectangle((j, rows - i - 1), 1, 1, color=\"red\"))  # Obstacles\n",
    "        elif value == 0:\n",
    "            ax.add_patch(matplotlib.patches.Rectangle((j, rows - i - 1), 1, 1, color=\"green\"))  # Obstacles\n",
    "        else:\n",
    "            ax.text(j + 0.5, rows - i - 1 + 0.5, f\"{value:.1f}\",\n",
    "                    ha=\"center\", va=\"center\", fontsize=12, color=\"blue\")\n",
    "\n",
    "# Draw grid lines\n",
    "for x in range(cols + 1):\n",
    "    ax.axvline(x, color='black', linewidth=1)\n",
    "for y in range(rows + 1):\n",
    "    ax.axhline(y, color='black', linewidth=1)\n",
    "\n",
    "# Set axis limits and aspect ratio\n",
    "ax.set_xlim(0, cols)\n",
    "ax.set_ylim(0, rows)\n",
    "ax.set_aspect('equal')\n",
    "ax.axis('off')\n",
    "\n",
    "# Show the plot\n",
    "plt.show()"
   ]
  },
  {
   "cell_type": "code",
   "execution_count": null,
   "metadata": {},
   "outputs": [],
   "source": []
  }
 ],
 "metadata": {
  "kernelspec": {
   "display_name": ".venv",
   "language": "python",
   "name": "python3"
  },
  "language_info": {
   "codemirror_mode": {
    "name": "ipython",
    "version": 3
   },
   "file_extension": ".py",
   "mimetype": "text/x-python",
   "name": "python",
   "nbconvert_exporter": "python",
   "pygments_lexer": "ipython3",
   "version": "3.11.9"
  }
 },
 "nbformat": 4,
 "nbformat_minor": 2
}
